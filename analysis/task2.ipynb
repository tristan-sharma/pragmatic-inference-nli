{
 "cells": [
  {
   "cell_type": "code",
   "execution_count": null,
   "metadata": {},
   "outputs": [],
   "source": [
    "from bert_nli import BertNLIModel\n",
    "import pandas as pd\n",
    "\n",
    "dataset = pd.read_csv('../data/custom-nli-dataset',header=None)\n",
    "print(dataset.head())\n",
    "model = BertNLIModel('../models/bert-base.state_dict')\n",
    "# sent_pairs = [('Rose\\'s ice did stun the children.','Rose has ice.')]\n",
    "# label, _= model(sent_pairs)\n",
    "# print(label)"
   ]
  }
 ],
 "metadata": {
  "language_info": {
   "name": "python"
  }
 },
 "nbformat": 4,
 "nbformat_minor": 2
}
